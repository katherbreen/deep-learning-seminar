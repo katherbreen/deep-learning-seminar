{
 "cells": [
  {
   "cell_type": "markdown",
   "metadata": {},
   "source": [
    "# For loops\n",
    "\n",
    "For loops are used to *iterate* through *elements* of an *object*, i.e. do something to elements of an object, one at a time. Python supports several styles of for loop:\n",
    "\n",
    "1. **Classic (iterator) for loop:** An iteration index (usually i) is used to access the i<sup>th</sup> element in the object. \n",
    "2. **For each loop:** This style accesses each element of an object using a keyword.\n",
    "3. **Enumerator loop:** Need an iterator and the object? Use the *enumerate* keyword.\n"
   ]
  },
  {
   "cell_type": "code",
   "execution_count": 1,
   "metadata": {},
   "outputs": [
    {
     "name": "stdout",
     "output_type": "stream",
     "text": [
      "Iterator:  0\n",
      "Element:  1\n",
      "Squared:  1 \n",
      "\n",
      "Iterator:  1\n",
      "Element:  2\n",
      "Squared:  4 \n",
      "\n",
      "Iterator:  2\n",
      "Element:  3\n",
      "Squared:  9 \n",
      "\n",
      "Iterator:  3\n",
      "Element:  4\n",
      "Squared:  16 \n",
      "\n",
      "Iterator:  4\n",
      "Element:  5\n",
      "Squared:  25 \n",
      "\n",
      "obj:  [1, 2, 3, 4, 5]\n",
      "result:  [1, 4, 9, 16, 25]\n"
     ]
    }
   ],
   "source": [
    "# Classic loop example\n",
    "\n",
    "obj = [1,2,3,4,5]  # the object is a list with five elements\n",
    "result1 = []  # define an empty list to store the result calculation\n",
    "\n",
    "# iterate through obj, square each element, and store\n",
    "for i in range(len(obj)): # this says \"loop through each element, obj[i], where i=0:number of elements in obj\"\n",
    "    print('Iterator: ',i)\n",
    "    element = obj[i]  # access the ith element in obj\n",
    "    squared = element**2  # square the ith element in obj\n",
    "    result1.append(squared)  # store the result\n",
    "    print('Element: ',element)\n",
    "    print('Squared: ',squared,'\\n')\n",
    "\n",
    "print('obj: ', obj)\n",
    "print('result: ',result1)"
   ]
  },
  {
   "cell_type": "code",
   "execution_count": 2,
   "metadata": {},
   "outputs": [
    {
     "name": "stdout",
     "output_type": "stream",
     "text": [
      "Element:  1\n",
      "Squared:  1 \n",
      "\n",
      "Element:  2\n",
      "Squared:  4 \n",
      "\n",
      "Element:  3\n",
      "Squared:  9 \n",
      "\n",
      "Element:  4\n",
      "Squared:  16 \n",
      "\n",
      "Element:  5\n",
      "Squared:  25 \n",
      "\n",
      "obj:  [1, 2, 3, 4, 5]\n",
      "result:  [1, 4, 9, 16, 25]\n"
     ]
    }
   ],
   "source": [
    "# For each example, using the same obj as before\n",
    "\n",
    "result2 = []\n",
    "\n",
    "for element in obj:\n",
    "    squared = element**2  # square the ith element in obj\n",
    "    result2.append(squared)  # store the result\n",
    "    print('Element: ',element)\n",
    "    print('Squared: ',squared,'\\n')\n",
    "\n",
    "print('obj: ', obj)\n",
    "print('result: ',result2)"
   ]
  },
  {
   "cell_type": "code",
   "execution_count": 3,
   "metadata": {},
   "outputs": [
    {
     "name": "stdout",
     "output_type": "stream",
     "text": [
      "Iterator:  0\n",
      "Element:  1\n",
      "Squared:  1 \n",
      "\n",
      "Iterator:  1\n",
      "Element:  2\n",
      "Squared:  4 \n",
      "\n",
      "Iterator:  2\n",
      "Element:  3\n",
      "Squared:  9 \n",
      "\n",
      "Iterator:  3\n",
      "Element:  4\n",
      "Squared:  16 \n",
      "\n",
      "Iterator:  4\n",
      "Element:  5\n",
      "Squared:  25 \n",
      "\n",
      "obj:  [1, 2, 3, 4, 5]\n",
      "result:  [1, 4, 9, 16, 25]\n",
      "object indices:  [0, 1, 2, 3, 4]\n"
     ]
    }
   ],
   "source": [
    "# Enumerate example, using the same obj as before. This time, we'll store each object index as well\n",
    "\n",
    "result3 = []\n",
    "indices = []\n",
    "\n",
    "for index,element in enumerate(obj):\n",
    "    squared = element**2\n",
    "    result3.append(squared)\n",
    "    indices.append(index)\n",
    "    print('Iterator: ',index)\n",
    "    print('Element: ',element)\n",
    "    print('Squared: ',squared,'\\n')\n",
    "\n",
    "print('obj: ', obj)\n",
    "print('result: ',result3)\n",
    "print('object indices: ',indices)"
   ]
  },
  {
   "cell_type": "markdown",
   "metadata": {},
   "source": [
    "## A few more examples....\n",
    "You can also use loops to iterate through keys of a dictionary, columns/rows of a Pandas dataframe, etc...."
   ]
  },
  {
   "cell_type": "code",
   "execution_count": 5,
   "metadata": {},
   "outputs": [
    {
     "name": "stdout",
     "output_type": "stream",
     "text": [
      "Dictionary key:  apples\n",
      "Dictionary value associated with the current key:  12 \n",
      "\n",
      "Dictionary key:  oranges\n",
      "Dictionary value associated with the current key:  10 \n",
      "\n",
      "Dictionary key:  bananas\n",
      "Dictionary value associated with the current key:  13 \n",
      "\n"
     ]
    }
   ],
   "source": [
    "# dictionary example\n",
    "fruit_dict = {'apples': 12,\n",
    "             'oranges': 10,\n",
    "             'bananas': 13}\n",
    "\n",
    "for fruit in fruit_dict:  # for each key in the dictionary...\n",
    "    print('Dictionary key: ',fruit)\n",
    "    print('Dictionary value associated with the current key: ',fruit_dict[fruit],'\\n')"
   ]
  },
  {
   "cell_type": "code",
   "execution_count": null,
   "metadata": {},
   "outputs": [],
   "source": [
    "# Pandas example\n",
    "import pandas as pd\n",
    "\n",
    "# create a dataframe from a dictionary\n",
    "temp_dict = {'A': [1,2,3,4,5],\n",
    "       'B': [6,7,8,9,10],\n",
    "       'C': [11,12,13,14,15]}\n",
    "print('Dictionary:\\n',temp_dict)\n",
    "df = pd.DataFrame.from_dict(data=temp_dict)\n",
    "print('DataFrame:\\n',df,'\\n')\n",
    "# NOTE: the far left column on the dataframe is a column of row indices\n",
    "\n",
    "# iterate through each column of the dataframe\n",
    "print('ITERATE THROUGH EACH COLUMN \\n ------------------------')\n",
    "for col in df.columns:\n",
    "    print('Column Name: ',col)\n",
    "    print('Column:\\n',df[col])  # a single column in a dataframe is called a series\n",
    "print('\\n')\n",
    "\n",
    "# iterate through each row of the dataframe\n",
    "print('ITERATE THROUGH EACH ROW \\n ------------------------')\n",
    "for idx in df.index:\n",
    "    print('Row number: ',idx)\n",
    "    print('Row:\\n',df.loc[idx,:])"
   ]
  },
  {
   "cell_type": "code",
   "execution_count": null,
   "metadata": {
    "collapsed": true
   },
   "outputs": [],
   "source": []
  }
 ],
 "metadata": {
  "kernelspec": {
   "display_name": "Python 3",
   "language": "python",
   "name": "python3"
  },
  "language_info": {
   "codemirror_mode": {
    "name": "ipython",
    "version": 3
   },
   "file_extension": ".py",
   "mimetype": "text/x-python",
   "name": "python",
   "nbconvert_exporter": "python",
   "pygments_lexer": "ipython3",
   "version": "3.6.3"
  }
 },
 "nbformat": 4,
 "nbformat_minor": 2
}
