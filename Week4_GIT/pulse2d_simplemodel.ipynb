{
 "cells": [
  {
   "cell_type": "markdown",
   "metadata": {},
   "source": [
    "# Writing a simple model \n",
    "\n",
    "## Part 1: Simple model development\n",
    "\n",
    "### Objective: Read model input files, calculate output over model domain, write model output files\n",
    "\n",
    "This model is based on Example 6.2 of Bedient et. al (1999):  \n",
    "\n",
    "*A tank holding chloride at a concentration of 10,000 mg/L accidentally leaks over an area of 10 m$^{2}$ into an aquifer.  Assume the chloride is a completely conservative tracer, that $D_{x}$ = 1 m$^{2}$/day and $D_{y}$ = 0.1 m$^{2}$/day, and that the seepage velocity ($V_{w}$) is 1 m/day.*\n",
    "\n",
    "For our model, we're going to define a domain of 5-100 m from the leak at 5 m intervals.  For each interval in our domain we will calculate:\n",
    "\n",
    "* a) The time required to reach the interval node\n",
    "$$t = \\frac{R_{t}x}{V_{w}}$$ \n",
    "\n",
    "where $R_{t}$ is the retardation with time, $x$ is the distance from leak source, and $V_{w}$ is the seepage velocity.\n",
    "* b) Peak concentration\n",
    "$$C_{max} = \\frac{C_{0}A}{4t\\pi(D_{x}D_{y})^{1/2}}$$\n",
    "\n",
    "where $C_{0}$ is the initial chloride concentration, $A$ is the spill area, $t$ is the time for the plume to reach the interval node, and $D_{x}$ and $D_{y}$ are the dispersion cefficients in the $x$ and $y$ directions, respectively.\n",
    "* c) Plume Dimensions\n",
    "$$3\\sigma_{x} = 3(2D_{x}t)^{1/2}$$\n",
    "$$3\\sigma_{y} = 3(2D_{y}t)^{1/2}$$\n",
    "\n",
    "where $3\\sigma_{x}$ and $3\\sigma_{y}$ are the plume dimensions in the $x$ and $y$ directions within three standard deviations from the mean (99.7% containment), respectively.\n",
    "\n",
    "**Implementation algorithm:**\n",
    "1. Define functions to calculate equations for parts a, b, and c.\n",
    "2. Read in input parameters from *pulse2D_input.txt* and define input variables\n",
    "4. Define model domain and interval size\n",
    "5. Define vectors to store output data\n",
    "6. Write for loop to iterate over model domain\n",
    "7. Apply functions for a, b, and c for each interation and store values\n",
    "9. Write output file\n",
    "8. Plot data\n",
    "\n",
    "**References**\n",
    "Bedient, P.B., Rifai, H.S., and Newell, C.J. (1999).  Ground water contamination: Transport and remediation (2nd edition).  ISBN: 0-13-013840-1."
   ]
  },
  {
   "cell_type": "code",
   "execution_count": 1,
   "metadata": {
    "collapsed": true
   },
   "outputs": [],
   "source": [
    "# IMPORT PACKAGES\n",
    "import math  # functions like sqrt and pi are parth of the math package\n",
    "import re  # regular expressions\n",
    "import numpy as np  # linearly spaced vector\n",
    "\n",
    "# plotting\n",
    "from matplotlib import rcParams  # next 3 lines set font family for plotting\n",
    "rcParams['font.family'] = ['serif']\n",
    "rcParams['font.sans-serif'] = ['Optima']\n",
    "rcParams['font.serif'] = ['Didot']\n",
    "import matplotlib.pyplot as plt\n",
    "plt.rcParams.update({'font.size': 18})"
   ]
  },
  {
   "cell_type": "code",
   "execution_count": 2,
   "metadata": {
    "collapsed": true
   },
   "outputs": [],
   "source": [
    "# STEP 1: FUNCTIONS\n",
    "# custom functions always go at the very type of your code - you can't use them until you run them!\n",
    "\n",
    "# PART A:\n",
    "def time2node(x,Rt,Vw):\n",
    "    t = (Rt*x)/Vw\n",
    "    return t\n",
    "\n",
    "# PART B:\n",
    "def peakC(t,C0,A,Dx,Dy):\n",
    "    Cmax = (C0*A)/(4*t*math.pi*math.sqrt(Dx*Dy))\n",
    "    return Cmax\n",
    "\n",
    "# PART C:\n",
    "def plumeDim(t,D):\n",
    "    sigma3 = 3*math.sqrt(2*D*t)\n",
    "    return sigma3"
   ]
  },
  {
   "cell_type": "code",
   "execution_count": 3,
   "metadata": {},
   "outputs": [
    {
     "name": "stdout",
     "output_type": "stream",
     "text": [
      "LINES----------\n",
      "['PARAMETER', 'VALUE\\n']\n",
      "['Dx', '1.000000\\n']\n",
      "['Dy', '.1000000\\n']\n",
      "['Vw', '1.000000\\n']\n",
      "['C0', '10000.00\\n']\n",
      "['A', '10.00000\\n']\n",
      "['Rt', '1.000000\\n']\n",
      "\n",
      "VARIABLES---------\n",
      "1.0\n",
      "0.1\n",
      "1.0\n",
      "10000.0\n",
      "10.0\n",
      "1.0\n",
      "\n",
      "DOMAIN NODES----------\n",
      "[  5.  10.  15.  20.  25.  30.  35.  40.  45.  50.  55.  60.  65.  70.\n",
      "  75.  80.  85.  90.  95. 100.]\n"
     ]
    }
   ],
   "source": [
    "# STEP 2: Read in input parameters from *pulse2D_input.txt* and define input variables\n",
    "header_str = '^#'  # character to define header string in input file\n",
    "#var_strs = ['Dx','Dy','Vw','C0','A','Rt']  # variable names to search for\n",
    "\n",
    "# initialize variables - variables created within a for loop won't exist after the final iteration.  always preallocate space for variables and arrays (this also saves processing time)\n",
    "Dx = 0\n",
    "Dy = 0\n",
    "Vw = 0\n",
    "C0 = 0\n",
    "A = 0\n",
    "Rt = 0\n",
    "\n",
    "f = open('pulse2D_input.txt')\n",
    "print('LINES----------')\n",
    "for line in f.readlines():\n",
    "    header = re.search(header_str,line)\n",
    "    if header is None:\n",
    "        lst = re.split('\\t',line)\n",
    "        print(lst)\n",
    "        Dx_re = re.search('^Dx',line)\n",
    "        Dy_re = re.search('^Dy',line)\n",
    "        Vw_re = re.search('^Vw',line)\n",
    "        C0_re = re.search('^C0',line)\n",
    "        A_re = re.search('^A',line)\n",
    "        Rt_re = re.search('^Rt',line)\n",
    "        \n",
    "        if Dx_re is not None:\n",
    "            Dx = float(lst[1])\n",
    "        if Dy_re is not None:\n",
    "            Dy = float(lst[1])\n",
    "        if Vw_re is not None:\n",
    "            Vw = float(lst[1])\n",
    "        if C0_re is not None:\n",
    "            C0 = float(lst[1])\n",
    "        if A_re is not None:\n",
    "            A = float(lst[1])\n",
    "        if Rt_re is not None:\n",
    "            Rt = float(lst[1])\n",
    "\n",
    "\n",
    "f.close()\n",
    "print('\\nVARIABLES---------')\n",
    "print(Dx)\n",
    "print(Dy)\n",
    "print(Vw)\n",
    "print(C0)\n",
    "print(A)\n",
    "print(Rt)\n",
    "\n",
    "# STEP 3: Define model domain and interval size\n",
    "h = 5\n",
    "domain = np.linspace(5,100,20)\n",
    "print('\\nDOMAIN NODES----------')\n",
    "print(domain)"
   ]
  },
  {
   "cell_type": "code",
   "execution_count": 4,
   "metadata": {},
   "outputs": [
    {
     "name": "stdout",
     "output_type": "stream",
     "text": [
      "OUTPUT: t\n",
      "[5.0, 10.0, 15.0, 20.0, 25.0, 30.0, 35.0, 40.0, 45.0, 50.0, 55.0, 60.0, 65.0, 70.0, 75.0, 80.0, 85.0, 90.0, 95.0, 100.0]\n",
      "\n",
      "OUTPUT: Cmax\n",
      "[5032.921210448703, 2516.4606052243516, 1677.6404034829013, 1258.2303026121758, 1006.5842420897407, 838.8202017414507, 718.9887443498149, 629.1151513060879, 559.2134678276336, 503.2921210448703, 457.538291858973, 419.41010087072533, 387.1477854191311, 359.4943721749074, 335.5280806965802, 314.55757565304395, 296.0541888499237, 279.6067339138168, 264.89059002361597, 251.64606052243516]\n",
      "\n",
      "PLUME DIMENSIONS:----\n",
      "\n",
      "sigma3x\n",
      "[9.486832980505138, 13.416407864998739, 16.431676725154983, 18.973665961010276, 21.213203435596427, 23.237900077244504, 25.099800796022265, 26.832815729997478, 28.460498941515414, 30.0, 31.464265445104544, 32.863353450309965, 34.205262752974136, 35.4964786985977, 36.742346141747674, 37.94733192202055, 39.1152144312159, 40.24922359499622, 41.352146256270665, 42.42640687119285]\n",
      "\n",
      "sigma3y\n",
      "[3.0, 4.242640687119286, 5.196152422706632, 6.0, 6.708203932499369, 7.348469228349534, 7.937253933193772, 8.485281374238571, 9.0, 9.486832980505138, 9.9498743710662, 10.392304845413264, 10.816653826391967, 11.224972160321824, 11.618950038622252, 12.0, 12.36931687685298, 12.727922061357855, 13.076696830622023, 13.416407864998739]\n"
     ]
    }
   ],
   "source": [
    "# STEP 4: Define vectors to store output data\n",
    "t_out = []\n",
    "Cmax_out = []\n",
    "sigma3x_out = []\n",
    "sigma3y_out = []\n",
    "\n",
    "# STEP 5: Write for loop to iterate over model domain\n",
    "for x in domain:\n",
    "    \n",
    "    # STEP 6: Apply functions for a, b, and c for each interation and store values\n",
    "    t = time2node(x,Rt,Vw)  # calculate value\n",
    "    t_out.append(t)  # store value\n",
    "    Cmax = peakC(t,C0,A,Dx,Dy)\n",
    "    Cmax_out.append(Cmax)\n",
    "    sigma3x = plumeDim(t,Dx)\n",
    "    sigma3x_out.append(sigma3x)\n",
    "    sigma3y = plumeDim(t,Dy)\n",
    "    sigma3y_out.append(sigma3y)\n",
    "    \n",
    "print('OUTPUT: t')\n",
    "print(t_out)\n",
    "print('\\nOUTPUT: Cmax')\n",
    "print(Cmax_out)\n",
    "print('\\nPLUME DIMENSIONS:----')\n",
    "print('\\nsigma3x')\n",
    "print(sigma3x_out)\n",
    "print('\\nsigma3y')\n",
    "print(sigma3y_out)"
   ]
  },
  {
   "cell_type": "code",
   "execution_count": 5,
   "metadata": {
    "collapsed": true
   },
   "outputs": [],
   "source": [
    "# STEP 9: write output file\n",
    "f_out = open('pulse2D_output.txt','w')\n",
    "#f_out.write('t\\tCmax\\tsigma3x\\tsigma3y\\n')\n",
    "f_out.write('{:12}'.format('t')+'\\t' \\\n",
    "            +'{:12}'.format('Cmax')+'\\t' \\\n",
    "            +'{:12}'.format('sigma3x')+'\\t' \\\n",
    "            +'{:12}'.format('sigma3y')+'\\n')\n",
    "for i in range(len(domain)):\n",
    "    # convert all numbers to floats with 14 sig fig \n",
    "    t = '{:04.10f}'.format(t_out[i])\n",
    "    Cmax = '{:04.10f}'.format(Cmax_out[i])\n",
    "    sigma3x = '{:04.10f}'.format(sigma3x_out[i])\n",
    "    sigma3y = '{:04.10f}'.format(sigma3y_out[i])\n",
    "    \n",
    "    # convert to string for writing, format string width to 12 characters so that cols are of even width\n",
    "    t = '{:.12}'.format(str(t))\n",
    "    Cmax = '{:.12}'.format(str(Cmax))\n",
    "    sigma3x = '{:.12}'.format(str(sigma3x))\n",
    "    sigma3y = '{:.12}'.format(str(sigma3y))\n",
    "    strng = t + '\\t' + Cmax + '\\t' + sigma3x + '\\t' + sigma3y + '\\n'\n",
    "    f_out.write(strng)\n",
    "\n",
    "f_out.close()"
   ]
  },
  {
   "cell_type": "code",
   "execution_count": 6,
   "metadata": {},
   "outputs": [
    {
     "name": "stderr",
     "output_type": "stream",
     "text": [
      "C:\\Users\\kathe\\Anaconda3\\lib\\site-packages\\matplotlib\\font_manager.py:1238: UserWarning: findfont: Font family ['serif'] not found. Falling back to DejaVu Sans.\n",
      "  (prop.get_family(), self.defaultFamily[fontext]))\n"
     ]
    },
    {
     "data": {
      "image/png": "[encoded data removed]",
      "text/plain": [
       "<Figure size 432x288 with 1 Axes>"
      ]
     },
     "metadata": {
      "needs_background": "light"
     },
     "output_type": "display_data"
    },
    {
     "data": {
      "image/png": "[encoded data removed]",
      "text/plain": [
       "<Figure size 432x288 with 1 Axes>"
      ]
     },
     "metadata": {
      "needs_background": "light"
     },
     "output_type": "display_data"
    },
    {
     "data": {
      "image/png": "[encoded data removed]",
      "text/plain": [
       "<Figure size 432x288 with 1 Axes>"
      ]
     },
     "metadata": {
      "needs_background": "light"
     },
     "output_type": "display_data"
    },
    {
     "data": {
      "image/png": "[encoded data removed]",
      "text/plain": [
       "<Figure size 432x288 with 1 Axes>"
      ]
     },
     "metadata": {
      "needs_background": "light"
     },
     "output_type": "display_data"
    }
   ],
   "source": [
    "# STEP 8: Plot data\n",
    "plt.figure(1)\n",
    "plt.plot(t_out,'r', linewidth=4)\n",
    "plt.xlabel('Distance from leak (m)')\n",
    "plt.ylabel('Plume travel time (days)')\n",
    "plt.show()\n",
    "\n",
    "plt.figure(2)\n",
    "plt.plot(Cmax_out,'g', linewidth=4)\n",
    "plt.xlabel('Distance from leak (m)')\n",
    "plt.ylabel('Peak Concentration (mg/L)')\n",
    "plt.show()\n",
    "\n",
    "plt.figure(3)\n",
    "plt.plot(sigma3x_out,'b', linewidth=4)\n",
    "plt.xlabel('Distance from leak (m)')\n",
    "plt.ylabel('Plume x dimension (m)')\n",
    "plt.show()\n",
    "\n",
    "plt.figure(4)\n",
    "plt.plot(sigma3y_out,'c', linewidth=4)\n",
    "plt.xlabel('Distance from leak (m)')\n",
    "plt.ylabel('Plume y dimension (m)')\n",
    "plt.show()"
   ]
  },
  {
   "cell_type": "code",
   "execution_count": null,
   "metadata": {
    "collapsed": true
   },
   "outputs": [],
   "source": []
  }
 ],
 "metadata": {
  "kernelspec": {
   "display_name": "Python 3",
   "language": "python",
   "name": "python3"
  },
  "language_info": {
   "codemirror_mode": {
    "name": "ipython",
    "version": 3
   },
   "file_extension": ".py",
   "mimetype": "text/x-python",
   "name": "python",
   "nbconvert_exporter": "python",
   "pygments_lexer": "ipython3",
   "version": "3.6.3"
  }
 },
 "nbformat": 4,
 "nbformat_minor": 2
}
